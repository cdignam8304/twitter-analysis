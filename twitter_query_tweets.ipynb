{
 "cells": [
  {
   "cell_type": "markdown",
   "metadata": {},
   "source": [
    "# Querying Twitter"
   ]
  },
  {
   "cell_type": "markdown",
   "metadata": {},
   "source": [
    "This notebook contains instructions for performing general queries, as well as querying the home user's timeline."
   ]
  },
  {
   "cell_type": "markdown",
   "metadata": {},
   "source": [
    "## Libraries"
   ]
  },
  {
   "cell_type": "code",
   "execution_count": 1,
   "metadata": {},
   "outputs": [],
   "source": [
    "from twython import Twython\n",
    "import pandas as pd\n",
    "from pandas import DataFrame"
   ]
  },
  {
   "cell_type": "markdown",
   "metadata": {},
   "source": [
    "## Get connection credentials"
   ]
  },
  {
   "cell_type": "code",
   "execution_count": 2,
   "metadata": {},
   "outputs": [],
   "source": [
    "# Read in from csv\n",
    "creds = pd.read_csv(\"twitter_creds.csv\")\n",
    "# Remove unnecessary column\n",
    "creds = creds.drop([\"Unnamed: 0\"], axis=1)"
   ]
  },
  {
   "cell_type": "code",
   "execution_count": 4,
   "metadata": {},
   "outputs": [],
   "source": [
    "# Store credentials in variables\n",
    "# Strip function is applied to remove trailing whitespaces\n",
    "APP_KEY = creds[\"Value\"][0].strip()\n",
    "APP_SECRET = creds[\"Value\"][1].strip()\n",
    "OAUTH_TOKEN = creds[\"Value\"][2].strip()\n",
    "OAUTH_TOKEN_SECRET = creds[\"Value\"][3].strip()"
   ]
  },
  {
   "cell_type": "markdown",
   "metadata": {},
   "source": [
    "## Get timeline, store in variable and close api connection"
   ]
  },
  {
   "cell_type": "code",
   "execution_count": 37,
   "metadata": {},
   "outputs": [],
   "source": [
    "# Connect to api\n",
    "twitter = Twython(APP_KEY, APP_SECRET,\n",
    "                 OAUTH_TOKEN, OAUTH_TOKEN_SECRET)\n",
    "# Perform query\n",
    "results = twitter.get_home_timeline(count=200)\n",
    "# Close api connection\n",
    "del twitter"
   ]
  },
  {
   "cell_type": "markdown",
   "metadata": {},
   "source": [
    "## Perform a query, store in variable and close api connection"
   ]
  },
  {
   "cell_type": "code",
   "execution_count": 33,
   "metadata": {},
   "outputs": [],
   "source": [
    "# Connect to api\n",
    "twitter = Twython(APP_KEY, APP_SECRET,\n",
    "                 OAUTH_TOKEN, OAUTH_TOKEN_SECRET)\n",
    "# Perform query\n",
    "myquery = \"Trump -filter:retweets -filter:replies\"\n",
    "results = twitter.search(q = myquery,\n",
    "                         count = 100,\n",
    "                         result_type = \"popular\",\n",
    "                         tweet_mode = \"extended\",\n",
    "                         include_entities = False)\n",
    "\n",
    "# Close api connection\n",
    "del twitter"
   ]
  },
  {
   "cell_type": "markdown",
   "metadata": {},
   "source": [
    "## Inspect query results (for timeline results see below)"
   ]
  },
  {
   "cell_type": "code",
   "execution_count": 106,
   "metadata": {},
   "outputs": [
    {
     "name": "stdout",
     "output_type": "stream",
     "text": [
      "statuses\n",
      "search_metadata\n"
     ]
    }
   ],
   "source": [
    "# Objects returned by the query\n",
    "for r in results:\n",
    "    print(r)"
   ]
  },
  {
   "cell_type": "code",
   "execution_count": 34,
   "metadata": {},
   "outputs": [
    {
     "data": {
      "text/plain": [
       "15"
      ]
     },
     "execution_count": 34,
     "metadata": {},
     "output_type": "execute_result"
    }
   ],
   "source": [
    "# How many tweets were returned?\n",
    "len(results[\"statuses\"])"
   ]
  },
  {
   "cell_type": "code",
   "execution_count": 134,
   "metadata": {},
   "outputs": [],
   "source": [
    "# results[\"statuses\"][0]"
   ]
  },
  {
   "cell_type": "code",
   "execution_count": 35,
   "metadata": {},
   "outputs": [],
   "source": [
    "# Create list containers to store query results, which will be combined into a dataframe\n",
    "screen_name = []\n",
    "verified = []\n",
    "description = []\n",
    "created_at = []\n",
    "full_text = []\n",
    "favorite_count = []\n",
    "retweet_count = []"
   ]
  },
  {
   "cell_type": "code",
   "execution_count": 36,
   "metadata": {},
   "outputs": [],
   "source": [
    "# Print tweets returned by the query\n",
    "for item in results[\"statuses\"]:\n",
    "    # print(item[\"user\"][\"screen_name\"])\n",
    "    screen_name.append(item[\"user\"][\"screen_name\"])\n",
    "    # print(item[\"user\"][\"verified\"])\n",
    "    verified.append(item[\"user\"][\"verified\"])\n",
    "    # print(item[\"user\"][\"description\"])\n",
    "    description.append(item[\"user\"][\"description\"])\n",
    "    # print(item[\"created_at\"])\n",
    "    created_at.append(item[\"created_at\"])\n",
    "    # print(item[\"full_text\"])\n",
    "    full_text.append(item[\"full_text\"])\n",
    "    # print(\"Favorite count:\", item[\"favorite_count\"])\n",
    "    favorite_count.append(item[\"favorite_count\"])\n",
    "    # print(\"Retweet count:\", item[\"retweet_count\"])\n",
    "    retweet_count.append(item[\"retweet_count\"])\n",
    "    # print(\"-\" * 50)"
   ]
  },
  {
   "cell_type": "code",
   "execution_count": 37,
   "metadata": {},
   "outputs": [],
   "source": [
    "# Combine tweet data into a dataframe\n",
    "tweet_data = {\"screen_name\":screen_name,\n",
    "              \"verified\":verified,\n",
    "              \"description\":description,\n",
    "              \"created_at\":created_at,\n",
    "              \"full_text\":full_text,\n",
    "              \"favorite_count\":favorite_count,\n",
    "              \"retweet_count\":retweet_count}\n",
    "df_tweets = pd.DataFrame(tweet_data)"
   ]
  },
  {
   "cell_type": "code",
   "execution_count": 38,
   "metadata": {},
   "outputs": [
    {
     "data": {
      "text/html": [
       "<div>\n",
       "<style scoped>\n",
       "    .dataframe tbody tr th:only-of-type {\n",
       "        vertical-align: middle;\n",
       "    }\n",
       "\n",
       "    .dataframe tbody tr th {\n",
       "        vertical-align: top;\n",
       "    }\n",
       "\n",
       "    .dataframe thead th {\n",
       "        text-align: right;\n",
       "    }\n",
       "</style>\n",
       "<table border=\"1\" class=\"dataframe\">\n",
       "  <thead>\n",
       "    <tr style=\"text-align: right;\">\n",
       "      <th></th>\n",
       "      <th>created_at</th>\n",
       "      <th>description</th>\n",
       "      <th>favorite_count</th>\n",
       "      <th>full_text</th>\n",
       "      <th>retweet_count</th>\n",
       "      <th>screen_name</th>\n",
       "      <th>verified</th>\n",
       "    </tr>\n",
       "  </thead>\n",
       "  <tbody>\n",
       "    <tr>\n",
       "      <th>0</th>\n",
       "      <td>Sun Mar 11 05:39:00 +0000 2018</td>\n",
       "      <td>“Ignorance, allied with power, is the most fer...</td>\n",
       "      <td>38444</td>\n",
       "      <td>At some point we need to confront the fact tha...</td>\n",
       "      <td>13377</td>\n",
       "      <td>JoyAnnReid</td>\n",
       "      <td>True</td>\n",
       "    </tr>\n",
       "    <tr>\n",
       "      <th>1</th>\n",
       "      <td>Sun Mar 11 04:50:20 +0000 2018</td>\n",
       "      <td>Journalist, storyteller, and lifelong reader. ...</td>\n",
       "      <td>30241</td>\n",
       "      <td>Tonight Pres. Trump once again stoked a crowd ...</td>\n",
       "      <td>11492</td>\n",
       "      <td>DanRather</td>\n",
       "      <td>True</td>\n",
       "    </tr>\n",
       "    <tr>\n",
       "      <th>2</th>\n",
       "      <td>Sun Mar 11 00:48:29 +0000 2018</td>\n",
       "      <td>Political Advisor to @HillaryClinton. Dad. Ukr...</td>\n",
       "      <td>9981</td>\n",
       "      <td>Trump is currently talking about Conor Lamb an...</td>\n",
       "      <td>4885</td>\n",
       "      <td>AdamParkhomenko</td>\n",
       "      <td>True</td>\n",
       "    </tr>\n",
       "    <tr>\n",
       "      <th>3</th>\n",
       "      <td>Sat Mar 10 20:27:24 +0000 2018</td>\n",
       "      <td>President Donald J Trump's Most Outspoken &amp; Lo...</td>\n",
       "      <td>5212</td>\n",
       "      <td>McCain Outed Secretly Plotting to ‘Take Down’ ...</td>\n",
       "      <td>2839</td>\n",
       "      <td>DiamondandSilk</td>\n",
       "      <td>True</td>\n",
       "    </tr>\n",
       "    <tr>\n",
       "      <th>4</th>\n",
       "      <td>Sun Mar 11 03:34:26 +0000 2018</td>\n",
       "      <td>President of The New Agenda. Advocate for wome...</td>\n",
       "      <td>2183</td>\n",
       "      <td>Yea, this seems normal too:\\n“Trump would be a...</td>\n",
       "      <td>2753</td>\n",
       "      <td>Amy_Siskind</td>\n",
       "      <td>True</td>\n",
       "    </tr>\n",
       "    <tr>\n",
       "      <th>5</th>\n",
       "      <td>Sat Mar 10 16:01:00 +0000 2018</td>\n",
       "      <td>President of The New Agenda. Advocate for wome...</td>\n",
       "      <td>8917</td>\n",
       "      <td>Folks, to be clear: when I say this scandal co...</td>\n",
       "      <td>2999</td>\n",
       "      <td>Amy_Siskind</td>\n",
       "      <td>True</td>\n",
       "    </tr>\n",
       "    <tr>\n",
       "      <th>6</th>\n",
       "      <td>Sun Mar 11 02:10:18 +0000 2018</td>\n",
       "      <td>Founder of @NextGenAmerica &amp; @Need2Impeach. Wo...</td>\n",
       "      <td>26616</td>\n",
       "      <td>If you ever wondered whether Mr. Trump was del...</td>\n",
       "      <td>10118</td>\n",
       "      <td>TomSteyer</td>\n",
       "      <td>True</td>\n",
       "    </tr>\n",
       "    <tr>\n",
       "      <th>7</th>\n",
       "      <td>Sun Mar 11 16:41:50 +0000 2018</td>\n",
       "      <td>Founder &amp; Exec. Director of @TPUSA Proud capit...</td>\n",
       "      <td>7851</td>\n",
       "      <td>\"Experts\" said Trump would lose in historic fa...</td>\n",
       "      <td>3633</td>\n",
       "      <td>charliekirk11</td>\n",
       "      <td>True</td>\n",
       "    </tr>\n",
       "    <tr>\n",
       "      <th>8</th>\n",
       "      <td>Sat Mar 10 07:25:05 +0000 2018</td>\n",
       "      <td>Author, Lecturer, Columnist (Justia), CNN cont...</td>\n",
       "      <td>11939</td>\n",
       "      <td>Cult expert finds Trump and followers fit as a...</td>\n",
       "      <td>6039</td>\n",
       "      <td>JohnWDean</td>\n",
       "      <td>True</td>\n",
       "    </tr>\n",
       "    <tr>\n",
       "      <th>9</th>\n",
       "      <td>Sun Mar 11 14:44:27 +0000 2018</td>\n",
       "      <td>🎥 filmmaker. 📚 author. 🎤 speaker. My bestselli...</td>\n",
       "      <td>10417</td>\n",
       "      <td>Actually no.  Trump insults white people all t...</td>\n",
       "      <td>3614</td>\n",
       "      <td>DineshDSouza</td>\n",
       "      <td>True</td>\n",
       "    </tr>\n",
       "    <tr>\n",
       "      <th>10</th>\n",
       "      <td>Sun Mar 11 13:18:41 +0000 2018</td>\n",
       "      <td>Moderator of @meetthepress and @nbcnews politi...</td>\n",
       "      <td>11166</td>\n",
       "      <td>“It's our responsibility at least at some poin...</td>\n",
       "      <td>2877</td>\n",
       "      <td>chucktodd</td>\n",
       "      <td>True</td>\n",
       "    </tr>\n",
       "    <tr>\n",
       "      <th>11</th>\n",
       "      <td>Sat Mar 10 16:37:42 +0000 2018</td>\n",
       "      <td>Candidate for Illinois Attorney General — vote...</td>\n",
       "      <td>5325</td>\n",
       "      <td>Putin claims that \"maybe Jews with Russian cit...</td>\n",
       "      <td>2962</td>\n",
       "      <td>renato_mariotti</td>\n",
       "      <td>True</td>\n",
       "    </tr>\n",
       "    <tr>\n",
       "      <th>12</th>\n",
       "      <td>Sun Mar 11 02:00:12 +0000 2018</td>\n",
       "      <td>Co-Founder @RealJusticePAC; Columnist @TheInte...</td>\n",
       "      <td>15556</td>\n",
       "      <td>Trump said the majority of women voted for him...</td>\n",
       "      <td>3678</td>\n",
       "      <td>ShaunKing</td>\n",
       "      <td>True</td>\n",
       "    </tr>\n",
       "    <tr>\n",
       "      <th>13</th>\n",
       "      <td>Sat Mar 10 19:45:15 +0000 2018</td>\n",
       "      <td>Staff writer @TheAtlantic covering national se...</td>\n",
       "      <td>9618</td>\n",
       "      <td>According to the official GOP Instagram accoun...</td>\n",
       "      <td>3456</td>\n",
       "      <td>NatashaBertrand</td>\n",
       "      <td>True</td>\n",
       "    </tr>\n",
       "    <tr>\n",
       "      <th>14</th>\n",
       "      <td>Sun Mar 11 14:48:57 +0000 2018</td>\n",
       "      <td>President of The New Agenda. Advocate for wome...</td>\n",
       "      <td>7637</td>\n",
       "      <td>In his shrinking inner-circle, Trump has throw...</td>\n",
       "      <td>3987</td>\n",
       "      <td>Amy_Siskind</td>\n",
       "      <td>True</td>\n",
       "    </tr>\n",
       "  </tbody>\n",
       "</table>\n",
       "</div>"
      ],
      "text/plain": [
       "                        created_at  \\\n",
       "0   Sun Mar 11 05:39:00 +0000 2018   \n",
       "1   Sun Mar 11 04:50:20 +0000 2018   \n",
       "2   Sun Mar 11 00:48:29 +0000 2018   \n",
       "3   Sat Mar 10 20:27:24 +0000 2018   \n",
       "4   Sun Mar 11 03:34:26 +0000 2018   \n",
       "5   Sat Mar 10 16:01:00 +0000 2018   \n",
       "6   Sun Mar 11 02:10:18 +0000 2018   \n",
       "7   Sun Mar 11 16:41:50 +0000 2018   \n",
       "8   Sat Mar 10 07:25:05 +0000 2018   \n",
       "9   Sun Mar 11 14:44:27 +0000 2018   \n",
       "10  Sun Mar 11 13:18:41 +0000 2018   \n",
       "11  Sat Mar 10 16:37:42 +0000 2018   \n",
       "12  Sun Mar 11 02:00:12 +0000 2018   \n",
       "13  Sat Mar 10 19:45:15 +0000 2018   \n",
       "14  Sun Mar 11 14:48:57 +0000 2018   \n",
       "\n",
       "                                          description  favorite_count  \\\n",
       "0   “Ignorance, allied with power, is the most fer...           38444   \n",
       "1   Journalist, storyteller, and lifelong reader. ...           30241   \n",
       "2   Political Advisor to @HillaryClinton. Dad. Ukr...            9981   \n",
       "3   President Donald J Trump's Most Outspoken & Lo...            5212   \n",
       "4   President of The New Agenda. Advocate for wome...            2183   \n",
       "5   President of The New Agenda. Advocate for wome...            8917   \n",
       "6   Founder of @NextGenAmerica & @Need2Impeach. Wo...           26616   \n",
       "7   Founder & Exec. Director of @TPUSA Proud capit...            7851   \n",
       "8   Author, Lecturer, Columnist (Justia), CNN cont...           11939   \n",
       "9   🎥 filmmaker. 📚 author. 🎤 speaker. My bestselli...           10417   \n",
       "10  Moderator of @meetthepress and @nbcnews politi...           11166   \n",
       "11  Candidate for Illinois Attorney General — vote...            5325   \n",
       "12  Co-Founder @RealJusticePAC; Columnist @TheInte...           15556   \n",
       "13  Staff writer @TheAtlantic covering national se...            9618   \n",
       "14  President of The New Agenda. Advocate for wome...            7637   \n",
       "\n",
       "                                            full_text  retweet_count  \\\n",
       "0   At some point we need to confront the fact tha...          13377   \n",
       "1   Tonight Pres. Trump once again stoked a crowd ...          11492   \n",
       "2   Trump is currently talking about Conor Lamb an...           4885   \n",
       "3   McCain Outed Secretly Plotting to ‘Take Down’ ...           2839   \n",
       "4   Yea, this seems normal too:\\n“Trump would be a...           2753   \n",
       "5   Folks, to be clear: when I say this scandal co...           2999   \n",
       "6   If you ever wondered whether Mr. Trump was del...          10118   \n",
       "7   \"Experts\" said Trump would lose in historic fa...           3633   \n",
       "8   Cult expert finds Trump and followers fit as a...           6039   \n",
       "9   Actually no.  Trump insults white people all t...           3614   \n",
       "10  “It's our responsibility at least at some poin...           2877   \n",
       "11  Putin claims that \"maybe Jews with Russian cit...           2962   \n",
       "12  Trump said the majority of women voted for him...           3678   \n",
       "13  According to the official GOP Instagram accoun...           3456   \n",
       "14  In his shrinking inner-circle, Trump has throw...           3987   \n",
       "\n",
       "        screen_name  verified  \n",
       "0        JoyAnnReid      True  \n",
       "1         DanRather      True  \n",
       "2   AdamParkhomenko      True  \n",
       "3    DiamondandSilk      True  \n",
       "4       Amy_Siskind      True  \n",
       "5       Amy_Siskind      True  \n",
       "6         TomSteyer      True  \n",
       "7     charliekirk11      True  \n",
       "8         JohnWDean      True  \n",
       "9      DineshDSouza      True  \n",
       "10        chucktodd      True  \n",
       "11  renato_mariotti      True  \n",
       "12        ShaunKing      True  \n",
       "13  NatashaBertrand      True  \n",
       "14      Amy_Siskind      True  "
      ]
     },
     "execution_count": 38,
     "metadata": {},
     "output_type": "execute_result"
    }
   ],
   "source": [
    "df_tweets"
   ]
  },
  {
   "cell_type": "code",
   "execution_count": 39,
   "metadata": {},
   "outputs": [],
   "source": [
    "# Save df_tweets to csv\n",
    "df_tweets.to_csv(\"df_tweets.csv\",\n",
    "                sep = \",\")"
   ]
  },
  {
   "cell_type": "code",
   "execution_count": 31,
   "metadata": {},
   "outputs": [
    {
     "name": "stdout",
     "output_type": "stream",
     "text": [
      "\"It correctly identified which signals were planets and which signals were not planets 96 percent of the time\"\n",
      "\n",
      "Read more about our planet-finding model here → https://t.co/EvD6keED9Z\n",
      "\n",
      "Learn more #MadeWithTensorFlow stories at #TFDevSummit → https://t.co/VthKCxDYz9 https://t.co/DEDAmSpPPp\n",
      "--------------------------------------------------\n",
      "TensorFlow 1.6.0 has been released! \n",
      "\n",
      "Please see the full release notes for details on added features and changes ↓ https://t.co/FnLsn99u2F\n",
      "--------------------------------------------------\n",
      "We’re excited to release the #TensorFlow model for processing @NASAKepler data, training our #neuralnetwork, and making predictions about new exoplanet candidate signals. We hope this release will prove a useful starting point for developing similar models https://t.co/oRzNHLwJRa\n",
      "--------------------------------------------------\n",
      "TensorFlow is the platform of choice for deep learning in the research community. These are deep learning framework mentions on arXiv over the past 3 months https://t.co/v6ZEi63hzP\n",
      "--------------------------------------------------\n",
      "With 3 weeks left until #TFDevSummit, get to know our speakers! \n",
      "\n",
      "Meet the speakers → https://t.co/nIj5ZDFGtF\n",
      "\n",
      "If you won't be joining us in person, watch out for details about our livestream, which will be available on the event page https://t.co/pbIUmloaHi\n",
      "--------------------------------------------------\n",
      "Google's engineering education team has just released translated versions of Google's machine learning glossary in Spanish, French, Korean, and Mandarin\n",
      "\n",
      "Check out the glossary here ↓ https://t.co/YDTBeHekIi\n",
      "--------------------------------------------------\n",
      ".@TensorFlow is a powerful open source tool for deep learning. Learn how to install and use it for image recognition with this tutorial https://t.co/9ckA0lK0g8\n",
      "--------------------------------------------------\n",
      "DeepChem 2.0 is out. Built on TensorFlow for molecular scientists. Eases Deep Learning in drug discovery, materials science, quantum chemistry, and biology. Great job @rbhar90. https://t.co/vyOBNIxUB5\n",
      "--------------------------------------------------\n",
      "Google’s AI is being used by US military drone programme https://t.co/1ybcodkyaf\n",
      "--------------------------------------------------\n",
      "Free eBook - How to implement TensorFlow in production.\n",
      "\n",
      "#MachineLearning\n",
      "\n",
      "https://t.co/Pe5CKXiVDk? https://t.co/zN3z83d7y4\n",
      "--------------------------------------------------\n",
      "Machine Learning Crash Course with TensorFlow APIs\n",
      "\n",
      "https://t.co/vqailUNcB6\n",
      "\n",
      "Google's fast-paced, practical introduction to machine learning\n",
      "--------------------------------------------------\n",
      "Final version of our book \"TensorFlow for Deep Learning\" has been sent to production! The ebook versions will be available within a week, and print books will start appearing in about 15 working days.\n",
      "https://t.co/SAr3NjTzYU\n",
      "--------------------------------------------------\n",
      "Thanks for noting this.  More info about travel grants and childcare for the TensorFlow Dev Summit is on https://t.co/ZePlHTYXx7 https://t.co/sRtLUaKpS3\n",
      "--------------------------------------------------\n",
      "At #HIMSS18? Stop by Intel’s booth to learn about our health IT solutions that are powered by #IntelAI &amp; @IntelIoT—with @Tensorflow and @GEHealthcare https://t.co/x6AMZ0BTW3\n",
      "--------------------------------------------------\n",
      "Predict numerical values or categories with regression and classification algorithms, using US election data in @TensorFlow. Learn how → https://t.co/ALnJDDs7J6 https://t.co/iX7wFsqss2\n",
      "--------------------------------------------------\n"
     ]
    }
   ],
   "source": [
    "for t in df_tweets[\"full_text\"]:\n",
    "    print(t)\n",
    "    print(\"-\" * 50)"
   ]
  },
  {
   "cell_type": "markdown",
   "metadata": {},
   "source": [
    "## Inspect timeline results"
   ]
  },
  {
   "cell_type": "code",
   "execution_count": null,
   "metadata": {},
   "outputs": [],
   "source": [
    "# How many items were returned\n",
    "len(results)"
   ]
  },
  {
   "cell_type": "code",
   "execution_count": 48,
   "metadata": {},
   "outputs": [],
   "source": [
    "# Print example of a tweet returned from timeline\n",
    "# results[50]"
   ]
  },
  {
   "cell_type": "code",
   "execution_count": 68,
   "metadata": {},
   "outputs": [
    {
     "ename": "KeyError",
     "evalue": "0",
     "output_type": "error",
     "traceback": [
      "\u001b[0;31m---------------------------------------------------------------------------\u001b[0m",
      "\u001b[0;31mKeyError\u001b[0m                                  Traceback (most recent call last)",
      "\u001b[0;32m<ipython-input-68-ea0a6fa63db8>\u001b[0m in \u001b[0;36m<module>\u001b[0;34m()\u001b[0m\n\u001b[1;32m      1\u001b[0m \u001b[0;31m# Attributes of a tweet:\u001b[0m\u001b[0;34m\u001b[0m\u001b[0;34m\u001b[0m\u001b[0m\n\u001b[0;32m----> 2\u001b[0;31m \u001b[0;32mfor\u001b[0m \u001b[0mitem\u001b[0m \u001b[0;32min\u001b[0m \u001b[0mresults\u001b[0m\u001b[0;34m[\u001b[0m\u001b[0;36m0\u001b[0m\u001b[0;34m]\u001b[0m\u001b[0;34m:\u001b[0m\u001b[0;34m\u001b[0m\u001b[0m\n\u001b[0m\u001b[1;32m      3\u001b[0m     \u001b[0mprint\u001b[0m\u001b[0;34m(\u001b[0m\u001b[0mitem\u001b[0m\u001b[0;34m)\u001b[0m\u001b[0;34m\u001b[0m\u001b[0m\n",
      "\u001b[0;31mKeyError\u001b[0m: 0"
     ]
    }
   ],
   "source": [
    "# Attributes of a tweet:\n",
    "for item in results[0]:\n",
    "    print(item)"
   ]
  },
  {
   "cell_type": "code",
   "execution_count": 69,
   "metadata": {},
   "outputs": [
    {
     "ename": "KeyError",
     "evalue": "'user'",
     "output_type": "error",
     "traceback": [
      "\u001b[0;31m---------------------------------------------------------------------------\u001b[0m",
      "\u001b[0;31mKeyError\u001b[0m                                  Traceback (most recent call last)",
      "\u001b[0;32m<ipython-input-69-174e093b6b31>\u001b[0m in \u001b[0;36m<module>\u001b[0;34m()\u001b[0m\n\u001b[1;32m      2\u001b[0m \u001b[0;31m# of timeline tweets\u001b[0m\u001b[0;34m\u001b[0m\u001b[0;34m\u001b[0m\u001b[0m\n\u001b[1;32m      3\u001b[0m \u001b[0;32mfor\u001b[0m \u001b[0mt\u001b[0m \u001b[0;32min\u001b[0m \u001b[0mresults\u001b[0m\u001b[0;34m:\u001b[0m\u001b[0;34m\u001b[0m\u001b[0m\n\u001b[0;32m----> 4\u001b[0;31m     \u001b[0mprint\u001b[0m\u001b[0;34m(\u001b[0m\u001b[0;34m\"%s : %s\"\u001b[0m \u001b[0;34m%\u001b[0m \u001b[0;34m(\u001b[0m\u001b[0mresults\u001b[0m\u001b[0;34m[\u001b[0m\u001b[0;34m\"user\"\u001b[0m\u001b[0;34m]\u001b[0m\u001b[0;34m[\u001b[0m\u001b[0;34m\"screen_name\"\u001b[0m\u001b[0;34m]\u001b[0m\u001b[0;34m,\u001b[0m \u001b[0mresults\u001b[0m\u001b[0;34m[\u001b[0m\u001b[0;34m\"user\"\u001b[0m\u001b[0;34m]\u001b[0m\u001b[0;34m[\u001b[0m\u001b[0;34m\"name\"\u001b[0m\u001b[0;34m]\u001b[0m\u001b[0;34m)\u001b[0m\u001b[0;34m)\u001b[0m\u001b[0;34m\u001b[0m\u001b[0m\n\u001b[0m",
      "\u001b[0;31mKeyError\u001b[0m: 'user'"
     ]
    }
   ],
   "source": [
    "# Get screen names (this is preceded by @ symbol in Twitter UI) and names\n",
    "# of timeline tweets\n",
    "for t in results:\n",
    "    print(\"%s : %s\" % (results[\"user\"][\"screen_name\"], results[\"user\"][\"name\"]))"
   ]
  },
  {
   "cell_type": "code",
   "execution_count": 45,
   "metadata": {},
   "outputs": [
    {
     "name": "stdout",
     "output_type": "stream",
     "text": [
      "realDonaldTrump\n",
      "Rasmussen and others have my approval ratings at around 50%, which is higher than Obama, and yet the political pund… https://t.co/x6MUw9P9sQ\n",
      "45099\n",
      "--------------------------------------------------\n",
      "realDonaldTrump\n",
      "The Democrats continue to Obstruct the confirmation of hundreds of good and talented people who are needed to run o… https://t.co/AVCxZlPVIJ\n",
      "39589\n",
      "--------------------------------------------------\n"
     ]
    }
   ],
   "source": [
    "for t in results:\n",
    "    if results[\"user\"][\"screen_name\"] == \"realDonaldTrump\":\n",
    "        print(results[\"user\"][\"screen_name\"])\n",
    "        print(results[\"text\"])\n",
    "        print(results[\"favorite_count\"])\n",
    "        print(\"-\" * 50)"
   ]
  },
  {
   "cell_type": "code",
   "execution_count": null,
   "metadata": {},
   "outputs": [],
   "source": []
  },
  {
   "cell_type": "code",
   "execution_count": null,
   "metadata": {},
   "outputs": [],
   "source": []
  },
  {
   "cell_type": "code",
   "execution_count": null,
   "metadata": {},
   "outputs": [],
   "source": []
  },
  {
   "cell_type": "code",
   "execution_count": null,
   "metadata": {},
   "outputs": [],
   "source": []
  }
 ],
 "metadata": {
  "kernelspec": {
   "display_name": "Python 3",
   "language": "python",
   "name": "python3"
  },
  "language_info": {
   "codemirror_mode": {
    "name": "ipython",
    "version": 3
   },
   "file_extension": ".py",
   "mimetype": "text/x-python",
   "name": "python",
   "nbconvert_exporter": "python",
   "pygments_lexer": "ipython3",
   "version": "3.6.1"
  }
 },
 "nbformat": 4,
 "nbformat_minor": 2
}
